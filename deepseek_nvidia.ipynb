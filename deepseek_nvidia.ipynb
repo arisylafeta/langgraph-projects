{
 "cells": [
  {
   "cell_type": "code",
   "execution_count": 11,
   "metadata": {},
   "outputs": [],
   "source": [
    "import os\n",
    "from dotenv import load_dotenv\n",
    "\n",
    "load_dotenv()\n",
    "os.environ[\"LANGCHAIN_TRACING_V2\"] = \"true\"\n",
    "os.environ[\"LANGCHAIN_ENDPOINT\"] = \"https://api.smith.langchain.com\"\n",
    "os.environ[\"LANGCHAIN_API_KEY\"] = os.getenv(\"LANGCHAIN_API_KEY\")\n",
    "os.environ[\"LANGCHAIN_PROJECT\"] = \"DeepSeek Test\"\n",
    "os.environ[\"NVIDIA_API_KEY\"] = os.getenv(\"NVIDIA_API_KEY\")"
   ]
  },
  {
   "cell_type": "code",
   "execution_count": 12,
   "metadata": {},
   "outputs": [
    {
     "name": "stderr",
     "output_type": "stream",
     "text": [
      "/Users/admin/miniconda3/envs/langgraph/lib/python3.12/site-packages/langchain_nvidia_ai_endpoints/_common.py:212: UserWarning: Found deepseek-ai/deepseek-r1 in available_models, but type is unknown and inference may fail.\n",
      "  warnings.warn(\n"
     ]
    },
    {
     "name": "stdout",
     "output_type": "stream",
     "text": [
      "<think>\n",
      "Okay, so I need to figure out which number"
     ]
    },
    {
     "name": "stderr",
     "output_type": "stream",
     "text": [
      "Failed to multipart ingest runs: langsmith.utils.LangSmithError: Failed to POST https://api.smith.langchain.com/runs/multipart in LangSmith API. HTTPError('403 Client Error: Forbidden for url: https://api.smith.langchain.com/runs/multipart', '{\"detail\":\"Forbidden\"}')\n"
     ]
    },
    {
     "name": "stdout",
     "output_type": "stream",
     "text": [
      " is larger between 9.11 and 9.8. Let me start by writing them down to compare. Both numbers have a 9 in the units place, so that part is the same. Now, looking at the decimal parts: 9.11 has .11 and 9.8 has .8. \n",
      "\n",
      "Hmm, wait a second. Decimals can be tricky because the places after the decimal represent tenths, hundredths, thousandths, etc. So in 9.11, the first decimal place is 1, which is 1 tenth, and the second is 1 hundredth. On the other hand, 9.8 is the same as 9.80 because you can add a zero at the end without changing the value. That might make it easier to compare.\n",
      "\n",
      "So if I rewrite 9.8 as 9.80, now both numbers have the same number of decimal places. Comparing 9.11 and 9.80, it's clearer now. The tenths place in 9.11 is 1, while in 9.80 it's 8. Since 8 is greater than 1, the tenths place of 9.80 is larger. Therefore, 9.80 (which is 9.8) is larger than 9.11.\n",
      "\n",
      "Let me double-check to make sure I didn't mix up the places. The first digit after the decimal is tenths, so 0.8 is eight tenths, which is equivalent to 0.80. The number 0.11 is one tenth plus one hundredth, which is 0.1 + 0.01 = 0.11. Since 0.80 is more than 0.11, 9.8 is indeed larger than 9.11.\n",
      "\n",
      "Another way to think about it is to convert both numbers to fractions. 9.11 is the same as 9 + 11/100, and 9.8 is 9 + 8/10. To compare 8/10 and 11/100, I can convert them to have the same denominator. 8/10 is equal to 80/100. Now, comparing 80/100 and 11/100, clearly 80/100 is larger. So 9.8 is larger than 9.11.\n",
      "\n",
      "Wait, just to be thorough, is there any chance that I might have misread the numbers? For example, could 9.11 be mistaken for 9.11 versus 9.08? But no, the original numbers are 9.11 and 9.8. So 9.8 is definitely 9.80, which is more than 9.11.\n",
      "\n",
      "Alternatively, if I subtract the two numbers: 9.8 - 9.11. Let's do that. 9.8 minus 9.11. Align the decimals:\n",
      "\n",
      "9.80\n",
      "-9.11\n",
      "------\n",
      "0.69\n",
      "\n",
      "Since the result is positive (0.69), that means 9.8 is larger than 9.11 by 0.69. So that confirms it.\n",
      "\n",
      "I think that's solid. All methods point to 9.8 being the larger number. No mistakes in my reasoning that I can see. Tenths place comparison, converting to fractions, subtracting—all methods agree. So I'm confident that 9.8 is larger than 9.11.\n",
      "</think>\n",
      "\n",
      "To determine which number is larger between **9.11** and **9.8**, compare their decimal places:\n",
      "\n",
      "1. **Align the decimals** by rewriting 9.8 as **9.80** (equivalent value).\n",
      "2. Compare digit by digit:\n",
      "   - **Units place**: Both have **9**.\n",
      "   - **Tenths place**: **1** (in 9.11) vs. **8** (in 9.80). Since **8 > 1**, **9.8** is larger.\n",
      "\n",
      "**Answer:** \\boxed{9.8}"
     ]
    },
    {
     "name": "stderr",
     "output_type": "stream",
     "text": [
      "Failed to multipart ingest runs: langsmith.utils.LangSmithError: Failed to POST https://api.smith.langchain.com/runs/multipart in LangSmith API. HTTPError('403 Client Error: Forbidden for url: https://api.smith.langchain.com/runs/multipart', '{\"detail\":\"Forbidden\"}')\n"
     ]
    }
   ],
   "source": [
    "from langchain_nvidia_ai_endpoints import ChatNVIDIA\n",
    "\n",
    "client = ChatNVIDIA(\n",
    "  model=\"deepseek-ai/deepseek-r1\",\n",
    "  temperature=0.6,\n",
    "  top_p=0.7,\n",
    "  max_tokens=4096,\n",
    ")\n",
    "\n",
    "for chunk in client.stream([{\"role\":\"user\",\"content\":\"Which number is larger, 9.11 or 9.8?\"}]): \n",
    "  print(chunk.content, end=\"\")"
   ]
  }
 ],
 "metadata": {
  "kernelspec": {
   "display_name": "langgraph",
   "language": "python",
   "name": "python3"
  },
  "language_info": {
   "codemirror_mode": {
    "name": "ipython",
    "version": 3
   },
   "file_extension": ".py",
   "mimetype": "text/x-python",
   "name": "python",
   "nbconvert_exporter": "python",
   "pygments_lexer": "ipython3",
   "version": "3.12.4"
  }
 },
 "nbformat": 4,
 "nbformat_minor": 2
}
